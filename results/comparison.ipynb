"""
Notebook Jupyter comparant les performances des algorithmes.
Visualise convergence, qualité des solutions et efficacité computationnelle.
Inclut analyse détaillée des résultats et sensibilité aux paramètres.
"""